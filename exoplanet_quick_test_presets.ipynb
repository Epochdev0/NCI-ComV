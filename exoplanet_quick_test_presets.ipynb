{
 "cells": [
  {
   "cell_type": "markdown",
   "id": "c8130e9c",
   "metadata": {},
   "source": [
    "# Exoplanet Detection: Quick Test Presets\n",
    "\n",
    "This notebook demonstrates quick test presets for exoplanet detection, including default values, hot Jupiter analysis, and gas giant classification using manual analysis."
   ]
  },
  {
   "cell_type": "code",
   "execution_count": null,
   "id": "3a523bfd",
   "metadata": {},
   "outputs": [],
   "source": [
    "# Import Required Libraries\n",
    "import numpy as np\n",
    "import pandas as pd\n",
    "import matplotlib.pyplot as plt"
   ]
  },
  {
   "cell_type": "markdown",
   "id": "b6c22d9c",
   "metadata": {},
   "source": [
    "## Define Default Test Presets\n",
    "\n",
    "Set up default values and parameters for exoplanet detection tests, including orbital period, radius, and stellar properties."
   ]
  },
  {
   "cell_type": "code",
   "execution_count": null,
   "id": "02c28605",
   "metadata": {},
   "outputs": [],
   "source": [
    "# Default test presets for exoplanet detection\n",
    "presets = [\n",
    "    {\n",
    "        'name': 'Default',\n",
    "        'koi_depth': 0.001,\n",
    "        'koi_duration': 3.5,\n",
    "        'koi_steff': 5800,\n",
    "        'koi_period': 10,\n",
    "        'koi_prad': 1.0,\n",
    "        'koi_teq': 300,\n",
    "    },\n",
    "    {\n",
    "        'name': 'Hot Jupiter',\n",
    "        'koi_depth': 20000,\n",
    "        'koi_duration': 2.5,\n",
    "        'koi_steff': 6000,\n",
    "        'koi_period': 3.0,\n",
    "        'koi_prad': 13.0,\n",
    "        'koi_teq': 1500,\n",
    "    },\n",
    "    {\n",
    "        'name': 'Gas Giant',\n",
    "        'koi_depth': 12000,\n",
    "        'koi_duration': 4.0,\n",
    "        'koi_steff': 5200,\n",
    "        'koi_period': 100,\n",
    "        'koi_prad': 11.0,\n",
    "        'koi_teq': 200,\n",
    "    }\n",
    "]\n",
    "presets_df = pd.DataFrame(presets)\n",
    "presets_df"
   ]
  },
  {
   "cell_type": "markdown",
   "id": "7258bf94",
   "metadata": {},
   "source": [
    "## Simulate Exoplanet Detection Data\n",
    "\n",
    "Generate synthetic datasets representing detected exoplanets using the default presets."
   ]
  },
  {
   "cell_type": "code",
   "execution_count": null,
   "id": "5bbb57d7",
   "metadata": {},
   "outputs": [],
   "source": [
    "# Simulate detection data for each preset\n",
    "np.random.seed(42)\n",
    "simulated_data = presets_df.copy()\n",
    "simulated_data['detected'] = np.where(simulated_data['koi_depth'] > 1000, 1, 0)\n",
    "simulated_data"
   ]
  },
  {
   "cell_type": "markdown",
   "id": "f5e28219",
   "metadata": {},
   "source": [
    "## Manual Analysis: Hot Jupiter Detection\n",
    "\n",
    "Apply criteria to identify hot Jupiters from the simulated data, such as short orbital periods and large radii."
   ]
  },
  {
   "cell_type": "code",
   "execution_count": null,
   "id": "4371c17c",
   "metadata": {},
   "outputs": [],
   "source": [
    "# Hot Jupiter: period < 10 days, radius > 8 Earth radii\n",
    "hot_jupiters = simulated_data[(simulated_data['koi_period'] < 10) & (simulated_data['koi_prad'] > 8)]\n",
    "hot_jupiters"
   ]
  },
  {
   "cell_type": "markdown",
   "id": "0c933d47",
   "metadata": {},
   "source": [
    "## Manual Analysis: Gas Giant Classification\n",
    "\n",
    "Classify detected exoplanets as gas giants based on mass and radius thresholds, and visualize the results."
   ]
  },
  {
   "cell_type": "code",
   "execution_count": null,
   "id": "c85e7c8c",
   "metadata": {},
   "outputs": [],
   "source": [
    "# Gas Giant: radius > 10 Earth radii\n",
    "simulated_data['is_gas_giant'] = simulated_data['koi_prad'] > 10\n",
    "plt.figure(figsize=(6,4))\n",
    "plt.scatter(simulated_data['koi_period'], simulated_data['koi_prad'],\n",
    "            c=simulated_data['is_gas_giant'], cmap='coolwarm', s=100)\n",
    "plt.xlabel('Orbital Period (days)')\n",
    "plt.ylabel('Planet Radius (Earth radii)')\n",
    "plt.title('Gas Giant Classification')\n",
    "plt.colorbar(label='Gas Giant (1=True, 0=False)')\n",
    "plt.show()\n",
    "simulated_data[['name', 'koi_period', 'koi_prad', 'is_gas_giant']]"
   ]
  }
 ],
 "metadata": {
  "language_info": {
   "name": "python"
  }
 },
 "nbformat": 4,
 "nbformat_minor": 5
}
